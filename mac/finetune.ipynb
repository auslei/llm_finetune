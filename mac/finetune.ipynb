{
 "cells": [
  {
   "cell_type": "code",
   "execution_count": 3,
   "id": "efd5d302-8707-425b-be3d-e6b77a904f43",
   "metadata": {},
   "outputs": [
    {
     "name": "stdout",
     "output_type": "stream",
     "text": [
      "environment variables loaded..\n"
     ]
    }
   ],
   "source": [
    "from transformers import AutoModelForCausalLM, AutoTokenizer, Trainer, TrainingArguments, DataCollatorForLanguageModeling\n",
    "from datasets import load_dataset\n",
    "from huggingface_hub import login\n",
    "from dotenv import load_dotenv\n",
    "import os\n",
    "\n",
    "if load_dotenv():\n",
    "    print(\"OS environment variables loaded..\")"
   ]
  },
  {
   "cell_type": "code",
   "execution_count": 4,
   "id": "3dc37aef-edc0-4b9e-abef-34e49190b92a",
   "metadata": {},
   "outputs": [],
   "source": [
    "hf_token = os.getenv(\"HUGGINGFACE_TOKEN\")\n",
    "login(hf_token)"
   ]
  },
  {
   "cell_type": "code",
   "execution_count": null,
   "id": "8a4bf3b7-c1e4-494d-96f5-473a88ad60e1",
   "metadata": {},
   "outputs": [
    {
     "data": {
      "application/vnd.jupyter.widget-view+json": {
       "model_id": "6acef453b789426791a962f61e389f9d",
       "version_major": 2,
       "version_minor": 0
      },
      "text/plain": [
       "Fetching 2 files:   0%|          | 0/2 [00:00<?, ?it/s]"
      ]
     },
     "metadata": {},
     "output_type": "display_data"
    },
    {
     "data": {
      "application/vnd.jupyter.widget-view+json": {
       "model_id": "e0c4ce8a80f04049bf53d066242a5201",
       "version_major": 2,
       "version_minor": 0
      },
      "text/plain": [
       "model-00001-of-00002.safetensors:   2%|2         | 210M/10.2G [00:00<?, ?B/s]"
      ]
     },
     "metadata": {},
     "output_type": "display_data"
    },
    {
     "data": {
      "application/vnd.jupyter.widget-view+json": {
       "model_id": "65a4e74946394323b89b84b2e91991fb",
       "version_major": 2,
       "version_minor": 0
      },
      "text/plain": [
       "model-00002-of-00002.safetensors:   3%|3         | 157M/4.70G [00:00<?, ?B/s]"
      ]
     },
     "metadata": {},
     "output_type": "display_data"
    },
    {
     "name": "stderr",
     "output_type": "stream",
     "text": [
      "Error while downloading from https://cdn-lfs.hf.co/repos/78/c6/78c6450f2e4f8ec5f8c6c5ac2c4ecff0e6c9dadc650fa7daf2d5bc0323dc99f6/9742cb4764964155b7a5f35eefad651f590006091ddeb536863d6c5865cca1b9?response-content-disposition=inline%3B+filename*%3DUTF-8%27%27model-00001-of-00002.safetensors%3B+filename%3D%22model-00001-of-00002.safetensors%22%3B&Expires=1751171972&Policy=eyJTdGF0ZW1lbnQiOlt7IkNvbmRpdGlvbiI6eyJEYXRlTGVzc1RoYW4iOnsiQVdTOkVwb2NoVGltZSI6MTc1MTE3MTk3Mn19LCJSZXNvdXJjZSI6Imh0dHBzOi8vY2RuLWxmcy5oZi5jby9yZXBvcy83OC9jNi83OGM2NDUwZjJlNGY4ZWM1ZjhjNmM1YWMyYzRlY2ZmMGU2YzlkYWRjNjUwZmE3ZGFmMmQ1YmMwMzIzZGM5OWY2Lzk3NDJjYjQ3NjQ5NjQxNTViN2E1ZjM1ZWVmYWQ2NTFmNTkwMDA2MDkxZGRlYjUzNjg2M2Q2YzU4NjVjY2ExYjk%7EcmVzcG9uc2UtY29udGVudC1kaXNwb3NpdGlvbj0qIn1dfQ__&Signature=duj%7E1qW0AG4T3sJNq0qyzZvGIjZsqzTSE6vWK14bKdNnh-7L-WunKc39KCCz1avWhdBqZWql25BD-FqMhMM7WP8nX4iO65YDODOckDTqJvdvORFuIEJCFk0xJpm35E8RkYJyea0J-SIKpwz5QnKxZQHnfvEcKkv-dpFbRyiO%7EMDC9SqV4VjtF5-qa0ze4UU-ytZ-R7JAUHWhPmcpoa7qRimjwEwJxJlb%7Ea%7EnJpL3USOxr5Smy-EcI-9OpR0-wNi-ZugcwrnKum7R41PotFq%7EqMUfcINNGCvfFvHbSEsnyo9-vnjSrAFq%7EDnTHqpmwOyz1GDZbWgHGBJ10wvXFUY8rw__&Key-Pair-Id=K3RPWS32NSSJCE: HTTPSConnectionPool(host='cdn-lfs.hf.co', port=443): Read timed out.\n",
      "Trying to resume download...\n",
      "Error while downloading from https://cdn-lfs.hf.co/repos/78/c6/78c6450f2e4f8ec5f8c6c5ac2c4ecff0e6c9dadc650fa7daf2d5bc0323dc99f6/9bcf56354ec0c68b5f8e97b4f3b02d16af899a65b0868d6dba5a51c1b30f01cb?response-content-disposition=inline%3B+filename*%3DUTF-8%27%27model-00002-of-00002.safetensors%3B+filename%3D%22model-00002-of-00002.safetensors%22%3B&Expires=1751171972&Policy=eyJTdGF0ZW1lbnQiOlt7IkNvbmRpdGlvbiI6eyJEYXRlTGVzc1RoYW4iOnsiQVdTOkVwb2NoVGltZSI6MTc1MTE3MTk3Mn19LCJSZXNvdXJjZSI6Imh0dHBzOi8vY2RuLWxmcy5oZi5jby9yZXBvcy83OC9jNi83OGM2NDUwZjJlNGY4ZWM1ZjhjNmM1YWMyYzRlY2ZmMGU2YzlkYWRjNjUwZmE3ZGFmMmQ1YmMwMzIzZGM5OWY2LzliY2Y1NjM1NGVjMGM2OGI1ZjhlOTdiNGYzYjAyZDE2YWY4OTlhNjViMDg2OGQ2ZGJhNWE1MWMxYjMwZjAxY2I%7EcmVzcG9uc2UtY29udGVudC1kaXNwb3NpdGlvbj0qIn1dfQ__&Signature=ElMtLZHbO-oNK9WnLS8euRY9mrIvTE7OAcWYbI9wSsDyGERNQSJH56QB2K5ub0SsYRyISFIF0Sm6BYZGUgrWlB58Le5AP92r6NhSWNZ7E06c4G9dTL--xuphU6v-gNpob290Tfx2UBz2UxwDmqpk4KK4lXjmCzAteDgfZt9wUyiHICChGvkthyDJJbyo4Y7gQa0KesctaUFbmpsw1zehyzHzcbqKBngy9cThjsV2uABK6DXaVY8HmQsDHB5SEzoJyEOTydlaJSbJg8w4mRFHHqTAJPs1v823nxxdQZGt%7EG2yq0ZHwANxdKDKDxjZQlMiqCclntWOckdgKzuqhUuIyg__&Key-Pair-Id=K3RPWS32NSSJCE: HTTPSConnectionPool(host='cdn-lfs.hf.co', port=443): Read timed out.\n",
      "Trying to resume download...\n"
     ]
    },
    {
     "data": {
      "application/vnd.jupyter.widget-view+json": {
       "model_id": "60025e1a632241f29a5a2343bafe4579",
       "version_major": 2,
       "version_minor": 0
      },
      "text/plain": [
       "model-00001-of-00002.safetensors:   4%|4         | 451M/10.4G [00:00<?, ?B/s]"
      ]
     },
     "metadata": {},
     "output_type": "display_data"
    },
    {
     "data": {
      "application/vnd.jupyter.widget-view+json": {
       "model_id": "8661f6d72d5d4c5cb1f49e983d72bed1",
       "version_major": 2,
       "version_minor": 0
      },
      "text/plain": [
       "model-00002-of-00002.safetensors:   9%|8         | 440M/4.98G [00:00<?, ?B/s]"
      ]
     },
     "metadata": {},
     "output_type": "display_data"
    },
    {
     "data": {
      "application/vnd.jupyter.widget-view+json": {
       "model_id": "725e6ffbce8b4b4aba16f2be3623b46e",
       "version_major": 2,
       "version_minor": 0
      },
      "text/plain": [
       "Loading checkpoint shards:   0%|          | 0/2 [00:00<?, ?it/s]"
      ]
     },
     "metadata": {},
     "output_type": "display_data"
    },
    {
     "data": {
      "application/vnd.jupyter.widget-view+json": {
       "model_id": "5fb23813dc8e4c179cc71305172ba9d2",
       "version_major": 2,
       "version_minor": 0
      },
      "text/plain": [
       "generation_config.json:   0%|          | 0.00/116 [00:00<?, ?B/s]"
      ]
     },
     "metadata": {},
     "output_type": "display_data"
    },
    {
     "data": {
      "application/vnd.jupyter.widget-view+json": {
       "model_id": "991dd407a77043f4a9b946bba60a8233",
       "version_major": 2,
       "version_minor": 0
      },
      "text/plain": [
       "tokenizer_config.json:   0%|          | 0.00/996 [00:00<?, ?B/s]"
      ]
     },
     "metadata": {},
     "output_type": "display_data"
    },
    {
     "data": {
      "application/vnd.jupyter.widget-view+json": {
       "model_id": "26857b20170e490d955147e8bf87e4c9",
       "version_major": 2,
       "version_minor": 0
      },
      "text/plain": [
       "tokenizer.model:   0%|          | 0.00/493k [00:00<?, ?B/s]"
      ]
     },
     "metadata": {},
     "output_type": "display_data"
    },
    {
     "data": {
      "application/vnd.jupyter.widget-view+json": {
       "model_id": "d1e87006fca949fd925afb2b2461eaf2",
       "version_major": 2,
       "version_minor": 0
      },
      "text/plain": [
       "tokenizer.json:   0%|          | 0.00/1.80M [00:00<?, ?B/s]"
      ]
     },
     "metadata": {},
     "output_type": "display_data"
    }
   ],
   "source": [
    "model_name = \"mistralai/Mistral-7B-v0.1\"\n",
    "model = AutoModelForCausalLM.from_pretrained(model_name)\n",
    "tokenizer = AutoTokenizer.from_pretrained(model_name)"
   ]
  },
  {
   "cell_type": "code",
   "execution_count": null,
   "id": "78ee837d-7dee-4fbc-8ea7-766221065831",
   "metadata": {},
   "outputs": [
    {
     "name": "stdout",
     "output_type": "stream",
     "text": [
      "Looking in indexes: https://download.pytorch.org/whl/metal.html\n",
      "Requirement already satisfied: torch in /opt/homebrew/Caskroom/miniconda/base/envs/finetuning3.11/lib/python3.11/site-packages (2.7.1)\n",
      "\u001b[31mERROR: Could not find a version that satisfies the requirement torchvision (from versions: none)\u001b[0m\u001b[31m\n",
      "\u001b[0m\u001b[31mERROR: No matching distribution found for torchvision\u001b[0m\u001b[31m\n",
      "\u001b[0m"
     ]
    }
   ],
   "source": [
    "dataset = load_dataset(\"text\", data_files=\"apra_combined.txt\")  # Your domain text\n",
    "\n",
    "def tokenize(example):\n",
    "    return tokenizer(example[\"text\"], return_special_tokens_mask=True)\n",
    "\n",
    "tokenized = dataset.map(tokenize, batched=True)\n",
    "\n",
    "collator = DataCollatorForLanguageModeling(tokenizer=tokenizer, mlm=False)\n",
    "\n",
    "args = TrainingArguments(\n",
    "    output_dir=\"./checkpoints\",\n",
    "    per_device_train_batch_size=1,\n",
    "    gradient_accumulation_steps=4,\n",
    "    num_train_epochs=1,\n",
    "    logging_steps=10,\n",
    "    save_steps=500,\n",
    "    fp16=False,  # No fp16 on MPS\n",
    "    push_to_hub=False,\n",
    "    report_to=\"none\",\n",
    ")\n",
    "\n",
    "trainer = Trainer(\n",
    "    model=model,\n",
    "    args=args,\n",
    "    train_dataset=tokenized[\"train\"],\n",
    "    tokenizer=tokenizer,\n",
    "    data_collator=collator,\n",
    ")\n",
    "\n",
    "trainer.train()"
   ]
  },
  {
   "cell_type": "code",
   "execution_count": 11,
   "id": "1a8b345c-e63b-43ea-9133-19fc79cfd239",
   "metadata": {},
   "outputs": [
    {
     "data": {
      "text/plain": [
       "True"
      ]
     },
     "execution_count": 11,
     "metadata": {},
     "output_type": "execute_result"
    },
    {
     "name": "stdout",
     "output_type": "stream",
     "text": [
      "ERROR! Session/line number was not unique in database. History logging moved to new session 213\n"
     ]
    }
   ],
   "source": [
    "import torch\n",
    "torch.backends.mps.is_available()  # Should return True"
   ]
  },
  {
   "cell_type": "code",
   "execution_count": null,
   "id": "9a99ffb3-a333-441d-bd1d-41f9573ba645",
   "metadata": {},
   "outputs": [],
   "source": []
  }
 ],
 "metadata": {
  "kernelspec": {
   "display_name": "Python 3 (ipykernel)",
   "language": "python",
   "name": "python3"
  },
  "language_info": {
   "codemirror_mode": {
    "name": "ipython",
    "version": 3
   },
   "file_extension": ".py",
   "mimetype": "text/x-python",
   "name": "python",
   "nbconvert_exporter": "python",
   "pygments_lexer": "ipython3",
   "version": "3.11.13"
  }
 },
 "nbformat": 4,
 "nbformat_minor": 5
}
