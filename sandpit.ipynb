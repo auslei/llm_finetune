{
 "cells": [
  {
   "cell_type": "code",
   "execution_count": 1,
   "id": "ebf90094-a2ea-4a51-b262-b7ad0e005d17",
   "metadata": {},
   "outputs": [
    {
     "name": "stderr",
     "output_type": "stream",
     "text": [
      "[nltk_data] Downloading package shakespeare to\n",
      "[nltk_data]     /home/anthony/nltk_data...\n",
      "[nltk_data]   Package shakespeare is already up-to-date!\n",
      "[nltk_data] Downloading package punkt to /home/anthony/nltk_data...\n",
      "[nltk_data]   Package punkt is already up-to-date!\n",
      "[nltk_data] Downloading package gutenberg to\n",
      "[nltk_data]     /home/anthony/nltk_data...\n",
      "[nltk_data]   Package gutenberg is already up-to-date!\n"
     ]
    }
   ],
   "source": [
    "import nltk\n",
    "nltk.download('shakespeare')\n",
    "nltk.download('punkt')\n",
    "nltk.download('gutenberg')\n",
    "nltk.corpus.gutenberg.fileids()\n",
    "bible = nltk.corpus.gutenberg.raw('bible-kjv.txt')"
   ]
  },
  {
   "cell_type": "code",
   "execution_count": 2,
   "id": "90ccf694-0171-406b-9dbe-5c3a5e64f9f1",
   "metadata": {},
   "outputs": [],
   "source": [
    "start = bible.find(\"The First Book of Moses\")\n",
    "end = bible.find(\"*** END OF THE PROJECT GUTENBERG EBOOK\")\n",
    "bible_clean = bible[start:end].strip()"
   ]
  },
  {
   "cell_type": "code",
   "execution_count": 3,
   "id": "6c96d974-a407-471f-84aa-3c65e413117f",
   "metadata": {},
   "outputs": [
    {
     "data": {
      "text/plain": [
       "'The First Book of Moses:  Called Genesis\\n\\n\\n1:1 In the beginning God created the heaven and the earth.\\n\\n1:2 And the earth was without form, and void; and darkness was upon\\nthe face of the deep. And the'"
      ]
     },
     "execution_count": 3,
     "metadata": {},
     "output_type": "execute_result"
    }
   ],
   "source": [
    "bible_clean[:200]"
   ]
  },
  {
   "cell_type": "code",
   "execution_count": 4,
   "id": "1247308f-12d7-4f18-b3ac-87f309e18ccd",
   "metadata": {},
   "outputs": [],
   "source": [
    "with open(\"docs/bible_kjv.txt\", \"w\") as f:\n",
    "    f.write(bible_clean)"
   ]
  },
  {
   "cell_type": "code",
   "execution_count": 6,
   "id": "083a636f-9fbb-4d13-9631-ec359fe5d7e6",
   "metadata": {},
   "outputs": [
    {
     "name": "stdout",
     "output_type": "stream",
     "text": [
      "Training file saved at: data/bible/pretrain.jsonl\n"
     ]
    },
    {
     "data": {
      "text/plain": [
       "{'pretrain': 'data/bible/pretrain.jsonl'}"
      ]
     },
     "execution_count": 6,
     "metadata": {},
     "output_type": "execute_result"
    }
   ],
   "source": [
    "from tools.data_prep import make_pretrain_data\n",
    "\n",
    "make_pretrain_data(\n",
    "    source=\"docs/bible_kjv.txt\",\n",
    "    output_file=\"data/bible/pretrain.jsonl\",\n",
    "    entity=\"Bible\",\n",
    "    doc_type=\"scripture\",\n",
    "    inject=False,  # Keep it clean if you don't want artificial prefixes\n",
    ")"
   ]
  },
  {
   "cell_type": "code",
   "execution_count": 7,
   "id": "0c653992-3ee1-4135-9832-8d3682111b8d",
   "metadata": {},
   "outputs": [],
   "source": [
    "import sys\n",
    "import yaml\n",
    "from pathlib import Path\n",
    "from tools.data_prep import make_pretrain_data, make_instruct_data\n",
    "\n",
    "\n",
    "def load_config(config_path):\n",
    "    with open(config_path, \"r\") as f:\n",
    "        return yaml.safe_load(f)"
   ]
  },
  {
   "cell_type": "code",
   "execution_count": null,
   "id": "28d3daaa-7332-4ddc-be09-ebc149396201",
   "metadata": {},
   "outputs": [],
   "source": []
  }
 ],
 "metadata": {
  "kernelspec": {
   "display_name": "Python 3 (ipykernel)",
   "language": "python",
   "name": "python3"
  },
  "language_info": {
   "codemirror_mode": {
    "name": "ipython",
    "version": 3
   },
   "file_extension": ".py",
   "mimetype": "text/x-python",
   "name": "python",
   "nbconvert_exporter": "python",
   "pygments_lexer": "ipython3",
   "version": "3.11.13"
  }
 },
 "nbformat": 4,
 "nbformat_minor": 5
}
